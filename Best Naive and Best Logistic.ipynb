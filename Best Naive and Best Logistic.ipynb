{
 "cells": [
  {
   "cell_type": "code",
   "execution_count": 85,
   "metadata": {
    "collapsed": true
   },
   "outputs": [],
   "source": [
    "import numpy as np\n",
    "from mnist import MNIST\n",
    "import matplotlib.pyplot as plt\n",
    "import pandas as pd\n",
    "import pickle"
   ]
  },
  {
   "cell_type": "code",
   "execution_count": 22,
   "metadata": {
    "collapsed": true
   },
   "outputs": [],
   "source": [
    "mndata = MNIST('./samples')\n",
    "\n",
    "images, labels = mndata.load_training()\n",
    "\n",
    "testimages, testlabls = mndata.load_testing()"
   ]
  },
  {
   "cell_type": "code",
   "execution_count": 23,
   "metadata": {
    "collapsed": true
   },
   "outputs": [],
   "source": [
    "train = np.array(images,dtype='float64')\n",
    "trainlabels=np.array(labels,dtype='float64')\n",
    "test = np.array(testimages,dtype='float64')\n",
    "testlabels=np.array(testlabls,dtype='float64')"
   ]
  },
  {
   "cell_type": "markdown",
   "metadata": {},
   "source": [
    "# Question 1 (Naive Bayes)"
   ]
  },
  {
   "cell_type": "code",
   "execution_count": 24,
   "metadata": {
    "collapsed": true
   },
   "outputs": [],
   "source": [
    "label=[]\n",
    "for i in range(0,10):\n",
    "    label.insert(i,train[np.where(trainlabels==i)])"
   ]
  },
  {
   "cell_type": "code",
   "execution_count": 25,
   "metadata": {
    "collapsed": true
   },
   "outputs": [],
   "source": [
    "labelmeans=[]\n",
    "labelvar=[]\n",
    "for i in range(0,10):\n",
    "    labelmeans.insert(i,np.mean(label[i], axis=0))\n",
    "    labelvar.insert(i,np.var(label[i], axis=0))\n",
    "label_means=np.array(labelmeans)\n",
    "#label_means=np.transpose(label_means)\n",
    "label_var=np.array(labelvar)\n",
    "#label_var=np.transpose(label_var)"
   ]
  },
  {
   "cell_type": "code",
   "execution_count": 26,
   "metadata": {},
   "outputs": [
    {
     "name": "stdout",
     "output_type": "stream",
     "text": [
      "(5923, 784)\n",
      "10\n",
      "10\n",
      "(784,)\n"
     ]
    }
   ],
   "source": [
    "trainmean=np.mean(train, axis=0)\n",
    "trainvar=np.var(train,axis=0)\n",
    "print(label[0].shape)\n",
    "print(len(label_means))\n",
    "print(len(label_var))\n",
    "print(label_var[8].shape)"
   ]
  },
  {
   "cell_type": "code",
   "execution_count": 27,
   "metadata": {},
   "outputs": [
    {
     "name": "stdout",
     "output_type": "stream",
     "text": [
      "(10, 784)\n",
      "(10, 784)\n"
     ]
    }
   ],
   "source": [
    "print(label_means.shape)\n",
    "print(label_var.shape)"
   ]
  },
  {
   "cell_type": "code",
   "execution_count": 102,
   "metadata": {
    "collapsed": true
   },
   "outputs": [],
   "source": [
    "def getcondprob(data):\n",
    "    condprob=[]\n",
    "    for i in range(0,10):\n",
    "        condprob.insert(i,np.exp(-np.square(test-label_means[i])/(2*(label_var[i])+100)))\n",
    "    return condprob"
   ]
  },
  {
   "cell_type": "code",
   "execution_count": 103,
   "metadata": {
    "collapsed": true
   },
   "outputs": [],
   "source": [
    "def naive_bayes_condprob(cond_prob):\n",
    "    prod_condtprob=[]\n",
    "    for i in range(0,10):\n",
    "        prod_condtprob.insert(i,np.prod(cond_prob[i],axis=1))\n",
    "        prod_condprob=np.array(prod_condtprob)\n",
    "        prod_condprob=np.transpose(prod_condprob)\n",
    "    return prod_condprob"
   ]
  },
  {
   "cell_type": "code",
   "execution_count": 104,
   "metadata": {
    "collapsed": true
   },
   "outputs": [],
   "source": [
    "def naive_bayes_predict(cond_prob):\n",
    "    #pred=np.empty([10000])\n",
    "    cp=naive_bayes_condprob(cond_prob)\n",
    "    #print(cp[555])\n",
    "    pred=np.argmax(cp, axis=1)\n",
    "    return pred"
   ]
  },
  {
   "cell_type": "code",
   "execution_count": 105,
   "metadata": {
    "collapsed": true
   },
   "outputs": [],
   "source": [
    "def accuracy(labels,truelabels):\n",
    "    count= len(np.where(labels-truelabels==0)[0])\n",
    "    return (count/len(labels))*100"
   ]
  },
  {
   "cell_type": "code",
   "execution_count": 106,
   "metadata": {
    "collapsed": true
   },
   "outputs": [],
   "source": [
    "cond_prob=getcondprob(test)"
   ]
  },
  {
   "cell_type": "code",
   "execution_count": 107,
   "metadata": {},
   "outputs": [
    {
     "name": "stdout",
     "output_type": "stream",
     "text": [
      "10\n"
     ]
    }
   ],
   "source": [
    "print(len(cond_prob))"
   ]
  },
  {
   "cell_type": "code",
   "execution_count": 108,
   "metadata": {
    "collapsed": true
   },
   "outputs": [],
   "source": [
    "prod_condprob=naive_bayes_condprob(cond_prob)"
   ]
  },
  {
   "cell_type": "code",
   "execution_count": 109,
   "metadata": {},
   "outputs": [
    {
     "name": "stdout",
     "output_type": "stream",
     "text": [
      "81.78999999999999\n"
     ]
    }
   ],
   "source": [
    "pred=naive_bayes_predict(cond_prob)"
   ]
  },
  {
   "cell_type": "markdown",
   "metadata": {},
   "source": [
    "## accuracy of naive bayes classification is 81.78"
   ]
  },
  {
   "cell_type": "code",
   "execution_count": 110,
   "metadata": {},
   "outputs": [
    {
     "name": "stdout",
     "output_type": "stream",
     "text": [
      "81.78999999999999\n"
     ]
    }
   ],
   "source": [
    "print(accuracy(pred,testlabels))"
   ]
  },
  {
   "cell_type": "code",
   "execution_count": 36,
   "metadata": {
    "collapsed": true
   },
   "outputs": [],
   "source": [
    "def confmat(pred,true):\n",
    "    predicts=pd.Series(pred,name='predicted')\n",
    "    trueval=pd.Series(true,name='actual')\n",
    "    print(pd.crosstab(predicts,trueval))"
   ]
  },
  {
   "cell_type": "markdown",
   "metadata": {},
   "source": [
    "## Following is the confusion matrix for predictions of naive bayes"
   ]
  },
  {
   "cell_type": "code",
   "execution_count": 37,
   "metadata": {},
   "outputs": [
    {
     "name": "stdout",
     "output_type": "stream",
     "text": [
      "actual     0.0   1.0  2.0  3.0  4.0  5.0  6.0  7.0  8.0  9.0\n",
      "predicted                                                   \n",
      "0          910     0   17    7    3   27   24    6   11   16\n",
      "1            0  1000    3    1    1    1    5   12    2    4\n",
      "2            5    31  893   53    9   12   24   39   21    7\n",
      "3            1     1   17  821    0   65    0    0   50    7\n",
      "4            0     1   10    1  798   12    7   19   10   82\n",
      "5           35    38    8   51   15  726   44    4   47   21\n",
      "6           13     5   24    6   20   15  847    0    9    0\n",
      "7            1     0   10    6    1    3    0  834    3   10\n",
      "8           15    59   48   51   39   23    7   46  800   43\n",
      "9            0     0    2   13   96    8    0   68   21  819\n"
     ]
    }
   ],
   "source": [
    "confmat(pred,testlabels)"
   ]
  },
  {
   "cell_type": "markdown",
   "metadata": {},
   "source": [
    "## Consider first test data whose truelabel is 7,Below is the plot."
   ]
  },
  {
   "cell_type": "code",
   "execution_count": 38,
   "metadata": {},
   "outputs": [
    {
     "data": {
      "image/png": "[encoded data removed]",
      "text/plain": [
       "<matplotlib.figure.Figure at 0x185c57342b0>"
      ]
     },
     "metadata": {},
     "output_type": "display_data"
    }
   ],
   "source": [
    "plt.imshow(test[0].reshape(28,28))\n",
    "plt.show()"
   ]
  },
  {
   "cell_type": "markdown",
   "metadata": {},
   "source": [
    "## Yellow represents values equal to 1\n",
    "## Blue represents values equal to 0\n",
    "## The conditional probability matrix(class 7) plot ,for the first test data whose true label is 7"
   ]
  },
  {
   "cell_type": "code",
   "execution_count": 39,
   "metadata": {},
   "outputs": [
    {
     "data": {
      "image/png": "[encoded data removed]",
      "text/plain": [
       "<matplotlib.figure.Figure at 0x185c56d9b38>"
      ]
     },
     "metadata": {},
     "output_type": "display_data"
    }
   ],
   "source": [
    "plt.imshow(cond_prob[7][0].reshape(28,28))\n",
    "plt.show()"
   ]
  },
  {
   "cell_type": "markdown",
   "metadata": {},
   "source": [
    "## From above graphs, we can see that conditional probabilities are  almost=1(color=yellow) at pixels that define the shape of number 7. So this will be classified as label 7\n",
    "\n",
    "## Below are the plots of conditional probability matrix(for classes excluding 7) plots for the  first test data whose true label is 7"
   ]
  },
  {
   "cell_type": "code",
   "execution_count": 40,
   "metadata": {
    "scrolled": false
   },
   "outputs": [
    {
     "data": {
      "image/png": "[encoded data removed]",
      "text/plain": [
       "<matplotlib.figure.Figure at 0x185c56ebe80>"
      ]
     },
     "metadata": {},
     "output_type": "display_data"
    },
    {
     "data": {
      "image/png": "[encoded data removed]",
      "text/plain": [
       "<matplotlib.figure.Figure at 0x185d40f8748>"
      ]
     },
     "metadata": {},
     "output_type": "display_data"
    },
    {
     "data": {
      "image/png": "[encoded data removed]",
      "text/plain": [
       "<matplotlib.figure.Figure at 0x185c54eb5c0>"
      ]
     },
     "metadata": {},
     "output_type": "display_data"
    },
    {
     "data": {
      "image/png": "[encoded data removed]",
      "text/plain": [
       "<matplotlib.figure.Figure at 0x185c5494c18>"
      ]
     },
     "metadata": {},
     "output_type": "display_data"
    },
    {
     "data": {
      "image/png": "[encoded data removed]",
      "text/plain": [
       "<matplotlib.figure.Figure at 0x1859df9b748>"
      ]
     },
     "metadata": {},
     "output_type": "display_data"
    },
    {
     "data": {
      "image/png": "[encoded data removed]",
      "text/plain": [
       "<matplotlib.figure.Figure at 0x1859dfc6080>"
      ]
     },
     "metadata": {},
     "output_type": "display_data"
    },
    {
     "data": {
      "image/png": "[encoded data removed]",
      "text/plain": [
       "<matplotlib.figure.Figure at 0x185c5767b00>"
      ]
     },
     "metadata": {},
     "output_type": "display_data"
    },
    {
     "data": {
      "image/png": "[encoded data removed]",
      "text/plain": [
       "<matplotlib.figure.Figure at 0x185ca51d630>"
      ]
     },
     "metadata": {},
     "output_type": "display_data"
    },
    {
     "data": {
      "image/png": "[encoded data removed]",
      "text/plain": [
       "<matplotlib.figure.Figure at 0x185c5494fd0>"
      ]
     },
     "metadata": {},
     "output_type": "display_data"
    }
   ],
   "source": [
    "c=cond_prob[0][0].reshape(28,28)\n",
    "plt.imshow(c)\n",
    "plt.show()\n",
    "\n",
    "plt.imshow(cond_prob[1][0].reshape(28,28))\n",
    "plt.show()\n",
    "\n",
    "plt.imshow(cond_prob[2][0].reshape(28,28))\n",
    "plt.show()\n",
    "\n",
    "plt.imshow(cond_prob[3][0].reshape(28,28))\n",
    "plt.show()\n",
    "\n",
    "plt.imshow(cond_prob[4][0].reshape(28,28))\n",
    "plt.show()\n",
    "plt.imshow(cond_prob[5][0].reshape(28,28))\n",
    "plt.show()\n",
    "plt.imshow(cond_prob[6][0].reshape(28,28))\n",
    "plt.show()\n",
    "plt.imshow(cond_prob[8][0].reshape(28,28))\n",
    "plt.show()\n",
    "plt.imshow(cond_prob[9][0].reshape(28,28))\n",
    "plt.show()\n",
    "\n",
    "\n",
    "\n",
    "#print(c.reshape(28,28))"
   ]
  },
  {
   "cell_type": "markdown",
   "metadata": {},
   "source": [
    "## From the above conditional probabilities plots , we can see that conditional probabilities are equal to 0(color=blue) at pixels that define the shape of that particular class"
   ]
  },
  {
   "cell_type": "markdown",
   "metadata": {},
   "source": [
    "# Question 2 (Logistic regression)"
   ]
  },
  {
   "cell_type": "markdown",
   "metadata": {},
   "source": [
    "## Derivation of gradient descent\n",
    "![title](./Capture.png)"
   ]
  },
  {
   "cell_type": "code",
   "execution_count": 41,
   "metadata": {},
   "outputs": [
    {
     "name": "stdout",
     "output_type": "stream",
     "text": [
      "(60000, 785)\n"
     ]
    }
   ],
   "source": [
    "train_norm=train/255\n",
    "ones=np.ones([60000,1])\n",
    "train_norm=np.hstack([ones,train_norm])\n",
    "print(train_norm.shape)"
   ]
  },
  {
   "cell_type": "code",
   "execution_count": 42,
   "metadata": {
    "collapsed": true
   },
   "outputs": [],
   "source": [
    "trainlab_list=[]\n",
    "for i in range(10):\n",
    "        trainlab=np.empty([60000,1])\n",
    "        trainlab[np.where(trainlabels==i)]=1\n",
    "        trainlab[np.where(trainlabels!=i)]=-1\n",
    "        trainlab_list.insert(i,trainlab)"
   ]
  },
  {
   "cell_type": "code",
   "execution_count": null,
   "metadata": {
    "collapsed": true
   },
   "outputs": [],
   "source": [
    "def error(l,t):\n",
    "    count=len(np.where(l!=t)[0])\n",
    "    return errors"
   ]
  },
  {
   "cell_type": "code",
   "execution_count": 43,
   "metadata": {
    "collapsed": true
   },
   "outputs": [],
   "source": [
    "def accuracy(l,t):\n",
    "    count=len(np.where(l==t)[0])\n",
    "    return (count/len(l))*100.0"
   ]
  },
  {
   "cell_type": "code",
   "execution_count": 44,
   "metadata": {
    "collapsed": true
   },
   "outputs": [],
   "source": [
    "def spc_accuracy(l,t):\n",
    "    count=len(np.where(l==t)[0])\n",
    "    print(\"count of truelabels class 1: \",len(np.where(t==1)[0]))\n",
    "    print(\"count of truelabels class -1: \",len(np.where(t==-1)[0]))\n",
    "    print(\"count of predicted labels class 1: \",len(np.where(l==1)[0]))\n",
    "    print(\"count of predicted labels class -1: \",len(np.where(l==-1)[0]))\n",
    "    print(\"right predicted: \",count)\n",
    "    return (count/len(l))*100.0"
   ]
  },
  {
   "cell_type": "code",
   "execution_count": 45,
   "metadata": {
    "collapsed": true
   },
   "outputs": [],
   "source": [
    "def sig(x):\n",
    "    return 1.0/(1.0+np.exp(-1.0*x))"
   ]
  },
  {
   "cell_type": "code",
   "execution_count": 46,
   "metadata": {
    "collapsed": true
   },
   "outputs": [],
   "source": [
    "def predict(x):\n",
    "    #print(x.shape)\n",
    "    pred=np.empty([x.shape[0],1])\n",
    "    pred[np.where(x>=0.5)]=1\n",
    "    pred[np.where(x<0.5)]=-1\n",
    "    return pred"
   ]
  },
  {
   "cell_type": "code",
   "execution_count": 52,
   "metadata": {
    "collapsed": true
   },
   "outputs": [],
   "source": [
    "def grad_des(x,y,w):\n",
    "    score=y*w*x.dot(w.T)\n",
    "    temp=y*x*(1-sig(score))\n",
    "    gd=-1.0*np.sum(temp,axis=0)+w\n",
    "    return gd \n",
    "#grad_des(train_norm,trainlab,w).shape"
   ]
  },
  {
   "cell_type": "code",
   "execution_count": 53,
   "metadata": {
    "collapsed": true
   },
   "outputs": [],
   "source": [
    "def cost(x,y,w):\n",
    "    score=y*x.dot(w.T)\n",
    "    c=np.sum(np.log(1+np.exp(-score)),axis=0)+0.5*w.dot(w.T)\n",
    "    return c\n",
    "#cost(train_norm,trainlab,w).shape"
   ]
  },
  {
   "cell_type": "code",
   "execution_count": 59,
   "metadata": {},
   "outputs": [
    {
     "name": "stdout",
     "output_type": "stream",
     "text": [
      "10\n",
      "(1, 785)\n"
     ]
    }
   ],
   "source": [
    "weig=np.zeros([1,785])\n",
    "weight=[weig]*10\n",
    "print(len(weight))\n",
    "print(weight[0].shape)"
   ]
  },
  {
   "cell_type": "code",
   "execution_count": null,
   "metadata": {},
   "outputs": [],
   "source": [
    "for i in range(10):\n",
    "    print(\"training class \",i)\n",
    "    acc=np.empty([150])\n",
    "    for j in range(1,101):\n",
    "        score=train_norm.dot(weight[i].T)\n",
    "        pred=predict(sig(score))\n",
    "        acc[j-1]=accuracy(pred,trainlab_list[i])\n",
    "        gd=grad_des(train_norm,trainlab_list[i],weight[i])\n",
    "        weight[i]=weight[i]-0.001*gd\n",
    "    print(\"accuracy for train data for last 10 iterations \",acc[90:100])"
   ]
  },
  {
   "cell_type": "code",
   "execution_count": null,
   "metadata": {
    "collapsed": true
   },
   "outputs": [],
   "source": [
    "with open('./weight.p', 'wb') as y:\n",
    "    pickle.dump(weight, y)    \n"
   ]
  },
  {
   "cell_type": "code",
   "execution_count": 64,
   "metadata": {},
   "outputs": [],
   "source": [
    "\n",
    "with open('./weight.p', 'rb') as y:\n",
    "    weights = pickle.load(y)\n",
    "    "
   ]
  },
  {
   "cell_type": "code",
   "execution_count": 66,
   "metadata": {
    "collapsed": true
   },
   "outputs": [],
   "source": [
    "test_norm=test/255\n",
    "one=np.ones([test.shape[0],1])\n",
    "test_norm=np.hstack([one,test_norm])\n",
    "testlab_list=[]\n",
    "for i in range(10):\n",
    "        testlab=np.empty([10000,1])\n",
    "        testlab[np.where(testlabels==i)]=1\n",
    "        testlab[np.where(testlabels!=i)]=-1\n",
    "        testlab_list.insert(i,testlab)"
   ]
  },
  {
   "cell_type": "code",
   "execution_count": 68,
   "metadata": {},
   "outputs": [
    {
     "name": "stdout",
     "output_type": "stream",
     "text": [
      "class  0\n",
      "count of truelabels class 1:  980\n",
      "count of truelabels class -1:  9020\n",
      "count of predicted labels class 1:  1011\n",
      "count of predicted labels class -1:  8989\n",
      "right predicted:  9905\n",
      "class  1\n",
      "count of truelabels class 1:  1135\n",
      "count of truelabels class -1:  8865\n",
      "count of predicted labels class 1:  1130\n",
      "count of predicted labels class -1:  8870\n",
      "right predicted:  9929\n",
      "class  2\n",
      "count of truelabels class 1:  1032\n",
      "count of truelabels class -1:  8968\n",
      "count of predicted labels class 1:  1008\n",
      "count of predicted labels class -1:  8992\n",
      "right predicted:  9772\n",
      "class  3\n",
      "count of truelabels class 1:  1010\n",
      "count of truelabels class -1:  8990\n",
      "count of predicted labels class 1:  729\n",
      "count of predicted labels class -1:  9271\n",
      "right predicted:  9683\n",
      "class  4\n",
      "count of truelabels class 1:  982\n",
      "count of truelabels class -1:  9018\n",
      "count of predicted labels class 1:  1001\n",
      "count of predicted labels class -1:  8999\n",
      "right predicted:  9793\n",
      "class  5\n",
      "count of truelabels class 1:  892\n",
      "count of truelabels class -1:  9108\n",
      "count of predicted labels class 1:  1484\n",
      "count of predicted labels class -1:  8516\n",
      "right predicted:  9252\n",
      "class  6\n",
      "count of truelabels class 1:  958\n",
      "count of truelabels class -1:  9042\n",
      "count of predicted labels class 1:  955\n",
      "count of predicted labels class -1:  9045\n",
      "right predicted:  9865\n",
      "class  7\n",
      "count of truelabels class 1:  1028\n",
      "count of truelabels class -1:  8972\n",
      "count of predicted labels class 1:  1008\n",
      "count of predicted labels class -1:  8992\n",
      "right predicted:  9798\n",
      "class  8\n",
      "count of truelabels class 1:  974\n",
      "count of truelabels class -1:  9026\n",
      "count of predicted labels class 1:  204\n",
      "count of predicted labels class -1:  9796\n",
      "right predicted:  9194\n",
      "class  9\n",
      "count of truelabels class 1:  1009\n",
      "count of truelabels class -1:  8991\n",
      "count of predicted labels class 1:  2149\n",
      "count of predicted labels class -1:  7851\n",
      "right predicted:  8740\n",
      "[ 99.05  99.29  97.72  96.83  97.93  92.52  98.65  97.98  91.94  87.4 ]\n"
     ]
    },
    {
     "name": "stderr",
     "output_type": "stream",
     "text": [
      "C:\\Users\\sthabass\\AppData\\Local\\Continuum\\anaconda3\\lib\\site-packages\\ipykernel_launcher.py:2: RuntimeWarning: overflow encountered in exp\n",
      "  \n"
     ]
    }
   ],
   "source": [
    "testpred_list=[]\n",
    "testacc=np.empty([10])\n",
    "testerr=np.empty([10])\n",
    "for i in range(10):\n",
    "    print(\"class \",i)\n",
    "    scores_test=test_norm.dot(weights[i].T)\n",
    "    pred_test=predict(sig(scores_test))\n",
    "    testacc[i]=spc_accuracy(pred_test,testlab_list[i])\n",
    "    #testerr[i]=error(pred_test,testlab_list[i])\n",
    "print(testacc)\n",
    "#print(testerr)"
   ]
  },
  {
   "cell_type": "markdown",
   "metadata": {
    "collapsed": true
   },
   "source": [
    "## Accuracy of logistic regression for each class will be"
   ]
  },
  {
   "cell_type": "code",
   "execution_count": 71,
   "metadata": {},
   "outputs": [
    {
     "name": "stdout",
     "output_type": "stream",
     "text": [
      "[ 99.05  99.29  97.72  96.83  97.93  92.52  98.65  97.98  91.94  87.4 ]\n",
      "95.931\n"
     ]
    }
   ],
   "source": [
    "print(testacc)\n",
    "av_acc=np.mean(testacc)\n",
    "print(av_acc)"
   ]
  },
  {
   "cell_type": "code",
   "execution_count": 72,
   "metadata": {},
   "outputs": [
    {
     "name": "stdout",
     "output_type": "stream",
     "text": [
      "95.931\n"
     ]
    }
   ],
   "source": [
    "print(np.mean(testacc))"
   ]
  },
  {
   "cell_type": "code",
   "execution_count": null,
   "metadata": {
    "collapsed": true
   },
   "outputs": [],
   "source": [
    "testpred_list=[]\n",
    "testacc=np.empty([10])\n",
    "testerr=np.empty([10])\n",
    "predict_list=[]\n",
    "for i in range(10):\n",
    "    print(\"class \",i)\n",
    "    scores_test=test_norm.dot(weights[i].T)\n",
    "    pred_test=predict(sig(scores_test))\n",
    "    testacc[i]=spc_accuracy(pred_test,testlab_list[i])\n",
    "    #testerr[i]=error(pred_test,testlab_list[i])\n",
    "print(testacc)"
   ]
  },
  {
   "cell_type": "code",
   "execution_count": 81,
   "metadata": {},
   "outputs": [
    {
     "name": "stdout",
     "output_type": "stream",
     "text": [
      "class  0\n",
      "count of truelabels class 1:  980\n",
      "count of truelabels class -1:  9020\n",
      "count of predicted labels class 1:  1011\n",
      "count of predicted labels class -1:  8989\n",
      "right predicted:  9905\n",
      "class  1\n",
      "count of truelabels class 1:  1135\n",
      "count of truelabels class -1:  8865\n",
      "count of predicted labels class 1:  1130\n",
      "count of predicted labels class -1:  8870\n",
      "right predicted:  9929\n",
      "class  2\n",
      "count of truelabels class 1:  1032\n",
      "count of truelabels class -1:  8968\n",
      "count of predicted labels class 1:  1008\n",
      "count of predicted labels class -1:  8992\n",
      "right predicted:  9772\n",
      "class  3\n",
      "count of truelabels class 1:  1010\n",
      "count of truelabels class -1:  8990\n",
      "count of predicted labels class 1:  729\n",
      "count of predicted labels class -1:  9271\n",
      "right predicted:  9683\n",
      "class  4\n",
      "count of truelabels class 1:  982\n",
      "count of truelabels class -1:  9018\n",
      "count of predicted labels class 1:  1001\n",
      "count of predicted labels class -1:  8999\n",
      "right predicted:  9793\n",
      "class  5\n",
      "count of truelabels class 1:  892\n",
      "count of truelabels class -1:  9108\n",
      "count of predicted labels class 1:  1484\n",
      "count of predicted labels class -1:  8516\n",
      "right predicted:  9252\n",
      "class  6\n",
      "count of truelabels class 1:  958\n",
      "count of truelabels class -1:  9042\n",
      "count of predicted labels class 1:  955\n",
      "count of predicted labels class -1:  9045\n",
      "right predicted:  9865\n",
      "class  7\n",
      "count of truelabels class 1:  1028\n",
      "count of truelabels class -1:  8972\n",
      "count of predicted labels class 1:  1008\n",
      "count of predicted labels class -1:  8992\n",
      "right predicted:  9798\n",
      "class  8\n",
      "count of truelabels class 1:  974\n",
      "count of truelabels class -1:  9026\n",
      "count of predicted labels class 1:  204\n",
      "count of predicted labels class -1:  9796\n",
      "right predicted:  9194\n",
      "class  9\n",
      "count of truelabels class 1:  1009\n",
      "count of truelabels class -1:  8991\n",
      "count of predicted labels class 1:  2149\n",
      "count of predicted labels class -1:  7851\n",
      "right predicted:  8740\n",
      "[ 99.05  99.29  97.72  96.83  97.93  92.52  98.65  97.98  91.94  87.4 ]\n"
     ]
    },
    {
     "name": "stderr",
     "output_type": "stream",
     "text": [
      "C:\\Users\\sthabass\\AppData\\Local\\Continuum\\anaconda3\\lib\\site-packages\\ipykernel_launcher.py:2: RuntimeWarning: overflow encountered in exp\n",
      "  \n"
     ]
    }
   ],
   "source": [
    "testpred_list=[]\n",
    "testacc=np.empty([10])\n",
    "testerr=np.empty([10])\n",
    "prob_list=[]\n",
    "for i in range(10):\n",
    "    print(\"class \",i)\n",
    "    scores_test=test_norm.dot(weights[i].T)\n",
    "    pred_test=predict(sig(scores_test))\n",
    "    test_prob=sig(scores_test)\n",
    "    test_prob=test_prob.reshape(10000)\n",
    "    prob_list.insert(i,test_prob)\n",
    "    testacc[i]=spc_accuracy(pred_test,testlab_list[i])\n",
    "    #testerr[i]=error(pred_test,testlab_list[i])\n",
    "print(testacc)"
   ]
  },
  {
   "cell_type": "code",
   "execution_count": 91,
   "metadata": {},
   "outputs": [
    {
     "name": "stdout",
     "output_type": "stream",
     "text": [
      "(10, 10000)\n",
      "(10000, 10)\n",
      "82.56\n"
     ]
    }
   ],
   "source": [
    "prob_mat=np.array(prob_list)\n",
    "print(prob_mat.shape)\n",
    "prob_mat=prob_mat.T\n",
    "print(prob_mat.shape)\n",
    "prediction=np.argmax(prob_mat,axis=1)\n",
    "accuracy_log=accuracy(prediction,testlabels)\n",
    "print(accuracy_log)"
   ]
  },
  {
   "cell_type": "markdown",
   "metadata": {},
   "source": [
    "## Accuracy of logistic regression is 82.56"
   ]
  },
  {
   "cell_type": "markdown",
   "metadata": {},
   "source": [
    "## Confusion matrix classification of test data using logistic regression"
   ]
  },
  {
   "cell_type": "code",
   "execution_count": 90,
   "metadata": {},
   "outputs": [
    {
     "name": "stdout",
     "output_type": "stream",
     "text": [
      "actual     0.0   1.0  2.0  3.0  4.0  5.0  6.0  7.0  8.0  9.0\n",
      "predicted                                                   \n",
      "0          938     0   10   10    2   12   12    4   47   11\n",
      "1            0  1109    3    2    3    4    3    7   26    5\n",
      "2            1     7  932   40    7    5   10   28   33    3\n",
      "3            1     0    7  723    0    6    0    0    9    2\n",
      "4            0     0    9    1  781   13   13    5   14   10\n",
      "5           26     9   15  152    3  806   41    5  327   27\n",
      "6            8     5   17   14   12   20  871    2   78    0\n",
      "7            4     1   16   15    1    5    0  888   17    8\n",
      "8            0     0    8    2    1    3    0    0  265    0\n",
      "9            2     4   15   51  172   18    8   89  158  943\n"
     ]
    }
   ],
   "source": [
    "confmat(prediction,testlabels)"
   ]
  },
  {
   "cell_type": "code",
   "execution_count": 76,
   "metadata": {
    "scrolled": false
   },
   "outputs": [
    {
     "data": {
      "image/png": "[encoded data removed]",
      "text/plain": [
       "<matplotlib.figure.Figure at 0x1859e0093c8>"
      ]
     },
     "metadata": {},
     "output_type": "display_data"
    },
    {
     "data": {
      "image/png": "[encoded data removed]",
      "text/plain": [
       "<matplotlib.figure.Figure at 0x1859e03ad30>"
      ]
     },
     "metadata": {},
     "output_type": "display_data"
    },
    {
     "data": {
      "image/png": "[encoded data removed]",
      "text/plain": [
       "<matplotlib.figure.Figure at 0x185ccf991d0>"
      ]
     },
     "metadata": {},
     "output_type": "display_data"
    },
    {
     "data": {
      "image/png": "[encoded data removed]",
      "text/plain": [
       "<matplotlib.figure.Figure at 0x1859e102eb8>"
      ]
     },
     "metadata": {},
     "output_type": "display_data"
    },
    {
     "data": {
      "image/png": "[encoded data removed]",
      "text/plain": [
       "<matplotlib.figure.Figure at 0x1859e159c50>"
      ]
     },
     "metadata": {},
     "output_type": "display_data"
    },
    {
     "data": {
      "image/png": "[encoded data removed]",
      "text/plain": [
       "<matplotlib.figure.Figure at 0x1859e1a46a0>"
      ]
     },
     "metadata": {},
     "output_type": "display_data"
    },
    {
     "data": {
      "image/png": "[encoded data removed]",
      "text/plain": [
       "<matplotlib.figure.Figure at 0x1859e1fdba8>"
      ]
     },
     "metadata": {},
     "output_type": "display_data"
    },
    {
     "data": {
      "image/png": "[encoded data removed]",
      "text/plain": [
       "<matplotlib.figure.Figure at 0x1859e258550>"
      ]
     },
     "metadata": {},
     "output_type": "display_data"
    },
    {
     "data": {
      "image/png": "[encoded data removed]",
      "text/plain": [
       "<matplotlib.figure.Figure at 0x1859e29ab70>"
      ]
     },
     "metadata": {},
     "output_type": "display_data"
    },
    {
     "data": {
      "image/png": "[encoded data removed]",
      "text/plain": [
       "<matplotlib.figure.Figure at 0x1859e22d588>"
      ]
     },
     "metadata": {},
     "output_type": "display_data"
    }
   ],
   "source": [
    "for i in range(10):\n",
    "    w=weights[i]\n",
    "    w=w[:,1:785]\n",
    "    plt.imshow(w.reshape(28,28))\n",
    "    plt.show()\n"
   ]
  },
  {
   "cell_type": "markdown",
   "metadata": {},
   "source": [
    "## When weight vectors of logistic regression are plotted, we can see the blurred digit shape for each class weight vector \n",
    "## Weights at pixels that define the shape of number are higher compared to weights at other pixels"
   ]
  },
  {
   "cell_type": "code",
   "execution_count": null,
   "metadata": {
    "collapsed": true
   },
   "outputs": [],
   "source": []
  }
 ],
 "metadata": {
  "kernelspec": {
   "display_name": "Python 3",
   "language": "python",
   "name": "python3"
  },
  "language_info": {
   "codemirror_mode": {
    "name": "ipython",
    "version": 3
   },
   "file_extension": ".py",
   "mimetype": "text/x-python",
   "name": "python",
   "nbconvert_exporter": "python",
   "pygments_lexer": "ipython3",
   "version": "3.6.3"
  }
 },
 "nbformat": 4,
 "nbformat_minor": 2
}
